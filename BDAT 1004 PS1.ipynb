{
 "cells": [
  {
   "cell_type": "markdown",
   "id": "c0f915ba",
   "metadata": {},
   "source": [
    "**BDAT 1004 PROBLEM SET 1**"
   ]
  },
  {
   "cell_type": "markdown",
   "id": "f5a579f7",
   "metadata": {},
   "source": [
    "**Question 1**"
   ]
  },
  {
   "cell_type": "code",
   "execution_count": null,
   "id": "350ab9b0",
   "metadata": {},
   "outputs": [],
   "source": [
    "# What data type is each of the following\n",
    "5 - Integer\n",
    "5.0 - Float\n",
    "5 > 1 - Boolean\n",
    "'5' - String\n",
    "5 * 2 - Integer\n",
    "'5' * 2 - String\n",
    "'5' + '2' - String\n",
    "5 / 2 - Float\n",
    "5 % 2 - Integer\n",
    "{5, 2, 1} - Set\n",
    "5 == 3 - Boolean\n",
    "Pi (the number) - Float"
   ]
  },
  {
   "cell_type": "code",
   "execution_count": 8,
   "id": "d93ed550",
   "metadata": {},
   "outputs": [
    {
     "name": "stdout",
     "output_type": "stream",
     "text": [
      "<class 'int'>\n"
     ]
    }
   ],
   "source": [
    "a = 5\n",
    "print(type(a))"
   ]
  },
  {
   "cell_type": "code",
   "execution_count": 9,
   "id": "a74c64e3",
   "metadata": {},
   "outputs": [
    {
     "name": "stdout",
     "output_type": "stream",
     "text": [
      "<class 'float'>\n"
     ]
    }
   ],
   "source": [
    "b = 5.0\n",
    "print(type(b))"
   ]
  },
  {
   "cell_type": "code",
   "execution_count": 10,
   "id": "bb61d102",
   "metadata": {},
   "outputs": [
    {
     "name": "stdout",
     "output_type": "stream",
     "text": [
      "<class 'bool'>\n"
     ]
    }
   ],
   "source": [
    "c = 5 > 1\n",
    "print(type(c))"
   ]
  },
  {
   "cell_type": "code",
   "execution_count": 11,
   "id": "921aebe3",
   "metadata": {},
   "outputs": [
    {
     "name": "stdout",
     "output_type": "stream",
     "text": [
      "<class 'str'>\n"
     ]
    }
   ],
   "source": [
    "d = '5'\n",
    "print(type(d))"
   ]
  },
  {
   "cell_type": "code",
   "execution_count": 12,
   "id": "51a68173",
   "metadata": {},
   "outputs": [
    {
     "name": "stdout",
     "output_type": "stream",
     "text": [
      "<class 'int'>\n"
     ]
    }
   ],
   "source": [
    "e = 5 * 2\n",
    "print(type(e))"
   ]
  },
  {
   "cell_type": "code",
   "execution_count": 13,
   "id": "44e47a03",
   "metadata": {},
   "outputs": [
    {
     "name": "stdout",
     "output_type": "stream",
     "text": [
      "<class 'str'>\n"
     ]
    }
   ],
   "source": [
    "f = '5' * 2\n",
    "print(type(f))"
   ]
  },
  {
   "cell_type": "code",
   "execution_count": 14,
   "id": "07d65872",
   "metadata": {},
   "outputs": [
    {
     "name": "stdout",
     "output_type": "stream",
     "text": [
      "<class 'str'>\n"
     ]
    }
   ],
   "source": [
    "g = '5' + '2'\n",
    "print(type(g))"
   ]
  },
  {
   "cell_type": "code",
   "execution_count": 15,
   "id": "f4d93073",
   "metadata": {
    "scrolled": true
   },
   "outputs": [
    {
     "name": "stdout",
     "output_type": "stream",
     "text": [
      "<class 'float'>\n"
     ]
    }
   ],
   "source": [
    "h = 5 / 2\n",
    "print(type(h))"
   ]
  },
  {
   "cell_type": "code",
   "execution_count": 16,
   "id": "75ccb161",
   "metadata": {},
   "outputs": [
    {
     "name": "stdout",
     "output_type": "stream",
     "text": [
      "<class 'int'>\n"
     ]
    }
   ],
   "source": [
    "i = 5 % 2\n",
    "print(type(i))"
   ]
  },
  {
   "cell_type": "code",
   "execution_count": 17,
   "id": "b7b96647",
   "metadata": {},
   "outputs": [
    {
     "name": "stdout",
     "output_type": "stream",
     "text": [
      "<class 'set'>\n"
     ]
    }
   ],
   "source": [
    "j = {5, 2, 1}\n",
    "print(type(j))"
   ]
  },
  {
   "cell_type": "code",
   "execution_count": 18,
   "id": "968ca30a",
   "metadata": {},
   "outputs": [
    {
     "name": "stdout",
     "output_type": "stream",
     "text": [
      "<class 'bool'>\n"
     ]
    }
   ],
   "source": [
    "k = 5 == 3\n",
    "print(type(k))"
   ]
  },
  {
   "cell_type": "code",
   "execution_count": 19,
   "id": "a7b282a6",
   "metadata": {},
   "outputs": [
    {
     "name": "stdout",
     "output_type": "stream",
     "text": [
      "<class 'float'>\n"
     ]
    }
   ],
   "source": [
    "l = 3.142\n",
    "print(type(l))"
   ]
  },
  {
   "cell_type": "markdown",
   "id": "ca7888f3",
   "metadata": {},
   "source": [
    "**Question 2**"
   ]
  },
  {
   "cell_type": "code",
   "execution_count": 22,
   "id": "d02ca496",
   "metadata": {},
   "outputs": [
    {
     "name": "stdout",
     "output_type": "stream",
     "text": [
      "34\n"
     ]
    }
   ],
   "source": [
    "# How many letters are there in 'Supercalifragilisticexpialidocious'?\n",
    "name = \"Supercalifragilisticexpialidocious\"\n",
    "print(len(name))"
   ]
  },
  {
   "cell_type": "code",
   "execution_count": 1,
   "id": "88c8fe95",
   "metadata": {},
   "outputs": [
    {
     "name": "stdout",
     "output_type": "stream",
     "text": [
      "True\n"
     ]
    }
   ],
   "source": [
    "# Does 'Supercalifragilisticexpialidocious' contain 'ice' as a substring? \n",
    "name = \"Supercalifragilisticexpialidocious\"\n",
    "print ('ice' in name)"
   ]
  },
  {
   "cell_type": "code",
   "execution_count": 2,
   "id": "1c87df23",
   "metadata": {},
   "outputs": [
    {
     "name": "stdout",
     "output_type": "stream",
     "text": [
      "34\n",
      "34\n"
     ]
    }
   ],
   "source": [
    "# Which of the following words is the longest:Supercalifragilisticexpialidocious, Honorificabilitudinitatibus, or\n",
    "#Bababadalgharaghtakamminarronnkonn? \n",
    "\n",
    "# Answer - Bababadalgharaghtakamminarronnkonn and Supercalifragilisticexpialidocious\n",
    "\n",
    "z= \"Bababadalgharaghtakamminarronnkonn\"\n",
    "q= \"Supercalifragilisticexpialidocious\"\n",
    "print(len(z))\n",
    "print(len(q))"
   ]
  },
  {
   "cell_type": "code",
   "execution_count": 29,
   "id": "2dd5df7d",
   "metadata": {},
   "outputs": [
    {
     "name": "stdout",
     "output_type": "stream",
     "text": [
      "['Bartok', 'Bellini', 'Berlioz', 'Bernstein', 'Borodin', 'Brian', 'Buxtehude']\n"
     ]
    }
   ],
   "source": [
    "# Which composer comes first in the dictionary: 'Berlioz', 'Borodin', 'Brian',\n",
    "#'Bartok', 'Bellini', 'Buxtehude', 'Bernstein'. Which one comes last?\n",
    "\n",
    "# Answer - Bartok\n",
    "\n",
    "myList = [\"Berlioz\", \"Borodin\", \"Brian\",\"Bartok\", \"Bellini\", \"Buxtehude\", \"Bernstein\"]\n",
    "myList.sort()\n",
    "print(myList)"
   ]
  },
  {
   "cell_type": "markdown",
   "id": "f14dec89",
   "metadata": {},
   "source": [
    "**Question 3**"
   ]
  },
  {
   "cell_type": "code",
   "execution_count": 14,
   "id": "2d7079a5",
   "metadata": {},
   "outputs": [
    {
     "ename": "IndentationError",
     "evalue": "expected an indented block (1870153911.py, line 3)",
     "output_type": "error",
     "traceback": [
      "\u001b[0;36m  File \u001b[0;32m\"/var/folders/g8/g1_09c650sncl292y6cbzrjc0000gn/T/ipykernel_94005/1870153911.py\"\u001b[0;36m, line \u001b[0;32m3\u001b[0m\n\u001b[0;31m    x = 2\u001b[0m\n\u001b[0m    ^\u001b[0m\n\u001b[0;31mIndentationError\u001b[0m\u001b[0;31m:\u001b[0m expected an indented block\n"
     ]
    }
   ],
   "source": [
    "import math\n",
    "def triangleArea(x, y, z):\n",
    "x = 2\n",
    "y = 2\n",
    "z = 2\n",
    "s = (x + y + z) / 2\n",
    "res = math.sqrt(s * (s - x) * (s - y) * (s - z))\n",
    "return res"
   ]
  },
  {
   "cell_type": "markdown",
   "id": "335e7795",
   "metadata": {},
   "source": [
    " \n",
    "  **Question 4**"
   ]
  },
  {
   "cell_type": "code",
   "execution_count": 57,
   "id": "ef56757c",
   "metadata": {},
   "outputs": [
    {
     "name": "stdout",
     "output_type": "stream",
     "text": [
      "Input the number of elements :- 5\n",
      "Please enter the Value of 1 Element :- 25\n",
      "Please enter the Value of 2 Element :- 47\n",
      "Please enter the Value of 3 Element :- 42\n",
      "Please enter the Value of 4 Element :- 56\n",
      "Please enter the Value of 5 Element :- 32\n",
      "\n",
      " The Even elements :  [42, 56, 32]\n",
      "\n",
      " The Odd elements :  [25, 47]\n"
     ]
    }
   ],
   "source": [
    "NumList = []\n",
    "Even = []\n",
    "Odd = []\n",
    " \n",
    "Number = int(input(\"Input the number of elements :- \"))\n",
    " \n",
    "for i in range(1, Number + 1):\n",
    "    value = int(input(\"Please enter the Value of %d Element :- \" %i))\n",
    "    NumList.append(value)\n",
    " \n",
    "for j in range(Number):\n",
    "    if(NumList[j] % 2 == 0):\n",
    "        Even.append(NumList[j])\n",
    "    else:\n",
    "        Odd.append(NumList[j])\n",
    " \n",
    "print(\"\\n The Even elements : \", Even)\n",
    "print(\"\\n The Odd elements : \", Odd)"
   ]
  },
  {
   "cell_type": "markdown",
   "id": "6c493e52",
   "metadata": {},
   "source": [
    "**Question 6**"
   ]
  },
  {
   "cell_type": "code",
   "execution_count": 71,
   "id": "c15127bc",
   "metadata": {},
   "outputs": [
    {
     "name": "stdout",
     "output_type": "stream",
     "text": [
      "enterway\n",
      "appyhay\n"
     ]
    }
   ],
   "source": [
    "def vowel(word):\n",
    "    vowelsound = 'aeiou'\n",
    "    for i in word.split():\n",
    "        for vowelsound in i.lower()[0]:\n",
    "            y = word + \"way\"\n",
    "            return y\n",
    "\n",
    "def consonant(word):\n",
    "    vowelsound = 'aeiou'\n",
    "    for i in word.split():\n",
    "        for vowelsound in i.lower()[0]:\n",
    "            pass\n",
    "        else: \n",
    "            x = (word[1:]+ word[0])\n",
    "            x = x + 'ay'\n",
    "            return x\n",
    "\n",
    "\n",
    "word1 = vowel('enter')\n",
    "word2 = consonant('happy')\n",
    "print(word1)\n",
    "print (word2)"
   ]
  },
  {
   "cell_type": "markdown",
   "id": "396d8572",
   "metadata": {},
   "source": [
    "**Question 5**"
   ]
  },
  {
   "cell_type": "code",
   "execution_count": 1,
   "id": "a3aea004",
   "metadata": {},
   "outputs": [
    {
     "name": "stdout",
     "output_type": "stream",
     "text": [
      "False\n",
      "True\n"
     ]
    }
   ],
   "source": [
    "def inside(x, y, x1, y1, x2, y2):\n",
    "     if(x > x1 and x < x2 and y > y1 and y < y2):\n",
    "         return True\n",
    "     else:\n",
    "         return False\n",
    "\n",
    "\n",
    "#First test\n",
    "print(inside(1,1,0.3,0.5,1.1,0.7))\n",
    "\n",
    "#second test\n",
    "print(inside(1, 1, 0.5, 0.2, 1.1, 2))"
   ]
  },
  {
   "cell_type": "markdown",
   "id": "b0086952",
   "metadata": {},
   "source": [
    "**Question 8**"
   ]
  },
  {
   "cell_type": "code",
   "execution_count": 5,
   "id": "4879004c",
   "metadata": {},
   "outputs": [
    {
     "ename": "FileNotFoundError",
     "evalue": "[Errno 2] No such file or directory: 'https://gc.blackboard.com/bbcswebdav/pid-8321654-dt-content-rid-58311158_1/xid-58311158_1'",
     "output_type": "error",
     "traceback": [
      "\u001b[0;31m---------------------------------------------------------------------------\u001b[0m",
      "\u001b[0;31mFileNotFoundError\u001b[0m                         Traceback (most recent call last)",
      "\u001b[0;32m/var/folders/g8/g1_09c650sncl292y6cbzrjc0000gn/T/ipykernel_94005/455638991.py\u001b[0m in \u001b[0;36m<module>\u001b[0;34m\u001b[0m\n\u001b[1;32m     10\u001b[0m \u001b[0;34m\u001b[0m\u001b[0m\n\u001b[1;32m     11\u001b[0m \u001b[0;31m# Print\u001b[0m\u001b[0;34m\u001b[0m\u001b[0;34m\u001b[0m\u001b[0m\n\u001b[0;32m---> 12\u001b[0;31m \u001b[0mprint\u001b[0m\u001b[0;34m(\u001b[0m\u001b[0mcurconv\u001b[0m\u001b[0;34m(\u001b[0m\u001b[0;34m'AUD'\u001b[0m\u001b[0;34m,\u001b[0m \u001b[0;36m5000\u001b[0m\u001b[0;34m)\u001b[0m\u001b[0;34m)\u001b[0m\u001b[0;34m\u001b[0m\u001b[0;34m\u001b[0m\u001b[0m\n\u001b[0m",
      "\u001b[0;32m/var/folders/g8/g1_09c650sncl292y6cbzrjc0000gn/T/ipykernel_94005/455638991.py\u001b[0m in \u001b[0;36mcurconv\u001b[0;34m(currency, amount)\u001b[0m\n\u001b[1;32m      1\u001b[0m \u001b[0;32mdef\u001b[0m \u001b[0mcurconv\u001b[0m\u001b[0;34m(\u001b[0m\u001b[0mcurrency\u001b[0m\u001b[0;34m,\u001b[0m \u001b[0mamount\u001b[0m\u001b[0;34m)\u001b[0m\u001b[0;34m:\u001b[0m\u001b[0;34m\u001b[0m\u001b[0;34m\u001b[0m\u001b[0m\n\u001b[1;32m      2\u001b[0m     \u001b[0;31m# get rate from file\u001b[0m\u001b[0;34m\u001b[0m\u001b[0;34m\u001b[0m\u001b[0m\n\u001b[0;32m----> 3\u001b[0;31m     \u001b[0mf\u001b[0m \u001b[0;34m=\u001b[0m \u001b[0mopen\u001b[0m\u001b[0;34m(\u001b[0m\u001b[0;34m'https://gc.blackboard.com/bbcswebdav/pid-8321654-dt-content-rid-58311158_1/xid-58311158_1'\u001b[0m\u001b[0;34m,\u001b[0m\u001b[0;34m'rt'\u001b[0m\u001b[0;34m)\u001b[0m\u001b[0;34m;\u001b[0m\u001b[0;34m\u001b[0m\u001b[0;34m\u001b[0m\u001b[0m\n\u001b[0m\u001b[1;32m      4\u001b[0m     \u001b[0mrate\u001b[0m \u001b[0;34m=\u001b[0m \u001b[0;36m0\u001b[0m\u001b[0;34m;\u001b[0m\u001b[0;34m\u001b[0m\u001b[0;34m\u001b[0m\u001b[0m\n\u001b[1;32m      5\u001b[0m     \u001b[0;32mfor\u001b[0m \u001b[0mi\u001b[0m \u001b[0;32min\u001b[0m \u001b[0mf\u001b[0m\u001b[0;34m:\u001b[0m\u001b[0;34m\u001b[0m\u001b[0;34m\u001b[0m\u001b[0m\n",
      "\u001b[0;31mFileNotFoundError\u001b[0m: [Errno 2] No such file or directory: 'https://gc.blackboard.com/bbcswebdav/pid-8321654-dt-content-rid-58311158_1/xid-58311158_1'"
     ]
    }
   ],
   "source": [
    "def curconv(currency, amount):\n",
    "    # get rate from file\n",
    "    f = open('currencies.txt','rt');\n",
    "    rate = 0;\n",
    "    for i in f:\n",
    "        if i.split()[0] == currency:\n",
    "             rate = i.split()[1]\n",
    "    # convert to USD\n",
    "    return float(amount) * float(rate);\n",
    "\n",
    "# Print\n",
    "print(curconv('AUD', 5000))"
   ]
  },
  {
   "cell_type": "markdown",
   "id": "222312ac",
   "metadata": {},
   "source": [
    "**Question 9**"
   ]
  },
  {
   "cell_type": "code",
   "execution_count": 6,
   "id": "8bef58de",
   "metadata": {},
   "outputs": [
    {
     "ename": "TypeError",
     "evalue": "unsupported operand type(s) for +: 'int' and 'str'",
     "output_type": "error",
     "traceback": [
      "\u001b[0;31m---------------------------------------------------------------------------\u001b[0m",
      "\u001b[0;31mTypeError\u001b[0m                                 Traceback (most recent call last)",
      "\u001b[0;32m/var/folders/g8/g1_09c650sncl292y6cbzrjc0000gn/T/ipykernel_94005/2277811496.py\u001b[0m in \u001b[0;36m<module>\u001b[0;34m\u001b[0m\n\u001b[1;32m      1\u001b[0m \u001b[0;31m# Trying to add incompatible variables, as in adding 6 + ‘a’\u001b[0m\u001b[0;34m\u001b[0m\u001b[0;34m\u001b[0m\u001b[0m\n\u001b[0;32m----> 2\u001b[0;31m \u001b[0mw\u001b[0m \u001b[0;34m=\u001b[0m \u001b[0;36m6\u001b[0m \u001b[0;34m+\u001b[0m \u001b[0;34m'a'\u001b[0m\u001b[0;34m\u001b[0m\u001b[0;34m\u001b[0m\u001b[0m\n\u001b[0m\u001b[1;32m      3\u001b[0m \u001b[0mprint\u001b[0m\u001b[0;34m(\u001b[0m\u001b[0mw\u001b[0m\u001b[0;34m)\u001b[0m\u001b[0;34m\u001b[0m\u001b[0;34m\u001b[0m\u001b[0m\n",
      "\u001b[0;31mTypeError\u001b[0m: unsupported operand type(s) for +: 'int' and 'str'"
     ]
    }
   ],
   "source": [
    "# Trying to add incompatible variables, as in adding 6 + ‘a’\n",
    "w = 6 + 'a'\n",
    "print(w)"
   ]
  },
  {
   "cell_type": "code",
   "execution_count": 7,
   "id": "ea39c951",
   "metadata": {},
   "outputs": [
    {
     "ename": "IndexError",
     "evalue": "list index out of range",
     "output_type": "error",
     "traceback": [
      "\u001b[0;31m---------------------------------------------------------------------------\u001b[0m",
      "\u001b[0;31mIndexError\u001b[0m                                Traceback (most recent call last)",
      "\u001b[0;32m/var/folders/g8/g1_09c650sncl292y6cbzrjc0000gn/T/ipykernel_94005/3018753861.py\u001b[0m in \u001b[0;36m<module>\u001b[0;34m\u001b[0m\n\u001b[1;32m      1\u001b[0m \u001b[0;31m# Referring to the 12th item of a list that has only 10 items\u001b[0m\u001b[0;34m\u001b[0m\u001b[0;34m\u001b[0m\u001b[0m\n\u001b[1;32m      2\u001b[0m \u001b[0mlist\u001b[0m \u001b[0;34m=\u001b[0m \u001b[0;34m[\u001b[0m\u001b[0;36m1\u001b[0m\u001b[0;34m,\u001b[0m \u001b[0;36m2\u001b[0m\u001b[0;34m,\u001b[0m \u001b[0;36m3\u001b[0m\u001b[0;34m,\u001b[0m \u001b[0;36m4\u001b[0m\u001b[0;34m,\u001b[0m \u001b[0;36m5\u001b[0m\u001b[0;34m,\u001b[0m \u001b[0;36m6\u001b[0m\u001b[0;34m,\u001b[0m \u001b[0;36m7\u001b[0m\u001b[0;34m,\u001b[0m \u001b[0;36m8\u001b[0m\u001b[0;34m,\u001b[0m \u001b[0;36m9\u001b[0m\u001b[0;34m]\u001b[0m\u001b[0;34m\u001b[0m\u001b[0;34m\u001b[0m\u001b[0m\n\u001b[0;32m----> 3\u001b[0;31m \u001b[0mprint\u001b[0m\u001b[0;34m(\u001b[0m\u001b[0mlist\u001b[0m\u001b[0;34m[\u001b[0m\u001b[0;36m12\u001b[0m\u001b[0;34m]\u001b[0m\u001b[0;34m)\u001b[0m\u001b[0;34m\u001b[0m\u001b[0;34m\u001b[0m\u001b[0m\n\u001b[0m",
      "\u001b[0;31mIndexError\u001b[0m: list index out of range"
     ]
    }
   ],
   "source": [
    "# Referring to the 12th item of a list that has only 10 items\n",
    "list = [1, 2, 3, 4, 5, 6, 7, 8, 9]\n",
    "print(list[12])"
   ]
  },
  {
   "cell_type": "code",
   "execution_count": 8,
   "id": "e7675ad4",
   "metadata": {},
   "outputs": [
    {
     "ename": "ValueError",
     "evalue": "math domain error",
     "output_type": "error",
     "traceback": [
      "\u001b[0;31m---------------------------------------------------------------------------\u001b[0m",
      "\u001b[0;31mValueError\u001b[0m                                Traceback (most recent call last)",
      "\u001b[0;32m/var/folders/g8/g1_09c650sncl292y6cbzrjc0000gn/T/ipykernel_94005/1122126827.py\u001b[0m in \u001b[0;36m<module>\u001b[0;34m\u001b[0m\n\u001b[1;32m      1\u001b[0m \u001b[0;31m# Using a value that is out of range for a function’s input, such as calling math.sqrt(-1.0)\u001b[0m\u001b[0;34m\u001b[0m\u001b[0;34m\u001b[0m\u001b[0m\n\u001b[1;32m      2\u001b[0m \u001b[0;32mimport\u001b[0m \u001b[0mmath\u001b[0m\u001b[0;34m\u001b[0m\u001b[0;34m\u001b[0m\u001b[0m\n\u001b[0;32m----> 3\u001b[0;31m \u001b[0mmath\u001b[0m\u001b[0;34m.\u001b[0m\u001b[0msqrt\u001b[0m\u001b[0;34m(\u001b[0m\u001b[0;34m-\u001b[0m\u001b[0;36m1.0\u001b[0m\u001b[0;34m)\u001b[0m\u001b[0;34m\u001b[0m\u001b[0;34m\u001b[0m\u001b[0m\n\u001b[0m",
      "\u001b[0;31mValueError\u001b[0m: math domain error"
     ]
    }
   ],
   "source": [
    "# Using a value that is out of range for a function’s input, such as calling math.sqrt(-1.0)\n",
    "import math\n",
    "math.sqrt(-1.0)"
   ]
  },
  {
   "cell_type": "code",
   "execution_count": 9,
   "id": "cb187ee2",
   "metadata": {},
   "outputs": [
    {
     "ename": "NameError",
     "evalue": "name 'v' is not defined",
     "output_type": "error",
     "traceback": [
      "\u001b[0;31m---------------------------------------------------------------------------\u001b[0m",
      "\u001b[0;31mNameError\u001b[0m                                 Traceback (most recent call last)",
      "\u001b[0;32m/var/folders/g8/g1_09c650sncl292y6cbzrjc0000gn/T/ipykernel_94005/2280600757.py\u001b[0m in \u001b[0;36m<module>\u001b[0;34m\u001b[0m\n\u001b[1;32m      1\u001b[0m \u001b[0;31m# Using an undeclared variable, such as print(x) when x has not been defined\u001b[0m\u001b[0;34m\u001b[0m\u001b[0;34m\u001b[0m\u001b[0m\n\u001b[0;32m----> 2\u001b[0;31m \u001b[0mprint\u001b[0m\u001b[0;34m(\u001b[0m\u001b[0mv\u001b[0m\u001b[0;34m)\u001b[0m\u001b[0;34m\u001b[0m\u001b[0;34m\u001b[0m\u001b[0m\n\u001b[0m",
      "\u001b[0;31mNameError\u001b[0m: name 'v' is not defined"
     ]
    }
   ],
   "source": [
    "# Using an undeclared variable, such as print(x) when x has not been defined\n",
    "print(v)"
   ]
  },
  {
   "cell_type": "code",
   "execution_count": 10,
   "id": "b5b72a41",
   "metadata": {},
   "outputs": [
    {
     "ename": "FileNotFoundError",
     "evalue": "[Errno 2] No such file or directory: 'pthon.txt'",
     "output_type": "error",
     "traceback": [
      "\u001b[0;31m---------------------------------------------------------------------------\u001b[0m",
      "\u001b[0;31mFileNotFoundError\u001b[0m                         Traceback (most recent call last)",
      "\u001b[0;32m/var/folders/g8/g1_09c650sncl292y6cbzrjc0000gn/T/ipykernel_94005/3410189394.py\u001b[0m in \u001b[0;36m<module>\u001b[0;34m\u001b[0m\n\u001b[1;32m      1\u001b[0m \u001b[0;31m# Trying to open a file that does not exist, such as mistyping the file name or looking in the wrong directory.\u001b[0m\u001b[0;34m\u001b[0m\u001b[0;34m\u001b[0m\u001b[0m\n\u001b[0;32m----> 2\u001b[0;31m \u001b[0mf\u001b[0m \u001b[0;34m=\u001b[0m \u001b[0mopen\u001b[0m\u001b[0;34m(\u001b[0m\u001b[0;34m'pthon.txt'\u001b[0m\u001b[0;34m,\u001b[0m\u001b[0;34m'rt'\u001b[0m\u001b[0;34m)\u001b[0m\u001b[0;34m;\u001b[0m\u001b[0;34m\u001b[0m\u001b[0;34m\u001b[0m\u001b[0m\n\u001b[0m",
      "\u001b[0;31mFileNotFoundError\u001b[0m: [Errno 2] No such file or directory: 'pthon.txt'"
     ]
    }
   ],
   "source": [
    "# Trying to open a file that does not exist, such as mistyping the file name or looking in the wrong directory.\n",
    "f = open('pthon.txt','rt');"
   ]
  },
  {
   "cell_type": "markdown",
   "id": "165e9e8e",
   "metadata": {},
   "source": [
    "**Question 10**"
   ]
  },
  {
   "cell_type": "code",
   "execution_count": 12,
   "id": "8c59b5ea",
   "metadata": {},
   "outputs": [
    {
     "ename": "TypeError",
     "evalue": "'list' object is not callable",
     "output_type": "error",
     "traceback": [
      "\u001b[0;31m---------------------------------------------------------------------------\u001b[0m",
      "\u001b[0;31mTypeError\u001b[0m                                 Traceback (most recent call last)",
      "\u001b[0;32m/var/folders/g8/g1_09c650sncl292y6cbzrjc0000gn/T/ipykernel_94005/2656647010.py\u001b[0m in \u001b[0;36m<module>\u001b[0;34m\u001b[0m\n\u001b[1;32m     42\u001b[0m \u001b[0;34m\u001b[0m\u001b[0m\n\u001b[1;32m     43\u001b[0m \u001b[0;34m\u001b[0m\u001b[0m\n\u001b[0;32m---> 44\u001b[0;31m \u001b[0mfrequencies\u001b[0m\u001b[0;34m(\u001b[0m\u001b[0;34m'hello world 6'\u001b[0m\u001b[0;34m)\u001b[0m\u001b[0;34m\u001b[0m\u001b[0;34m\u001b[0m\u001b[0m\n\u001b[0m",
      "\u001b[0;32m/var/folders/g8/g1_09c650sncl292y6cbzrjc0000gn/T/ipykernel_94005/2656647010.py\u001b[0m in \u001b[0;36mfrequencies\u001b[0;34m(characters)\u001b[0m\n\u001b[1;32m     38\u001b[0m \u001b[0;34m\u001b[0m\u001b[0m\n\u001b[1;32m     39\u001b[0m     \u001b[0;31m# printing result\u001b[0m\u001b[0;34m\u001b[0m\u001b[0;34m\u001b[0m\u001b[0m\n\u001b[0;32m---> 40\u001b[0;31m     \u001b[0mfreq\u001b[0m \u001b[0;34m=\u001b[0m \u001b[0mlist\u001b[0m\u001b[0;34m(\u001b[0m\u001b[0mall_freq\u001b[0m\u001b[0;34m.\u001b[0m\u001b[0mvalues\u001b[0m\u001b[0;34m(\u001b[0m\u001b[0;34m)\u001b[0m\u001b[0;34m)\u001b[0m\u001b[0;34m\u001b[0m\u001b[0;34m\u001b[0m\u001b[0m\n\u001b[0m\u001b[1;32m     41\u001b[0m     \u001b[0mprint\u001b[0m\u001b[0;34m(\u001b[0m\u001b[0mfreq\u001b[0m\u001b[0;34m)\u001b[0m\u001b[0;34m\u001b[0m\u001b[0;34m\u001b[0m\u001b[0m\n\u001b[1;32m     42\u001b[0m \u001b[0;34m\u001b[0m\u001b[0m\n",
      "\u001b[0;31mTypeError\u001b[0m: 'list' object is not callable"
     ]
    }
   ],
   "source": [
    "def frequencies(characters):\n",
    "\n",
    "    all_freq = {\n",
    "            \"a\": 0,\n",
    "            \"b\": 0,\n",
    "            \"c\": 0,\n",
    "            \"d\": 0,\n",
    "            \"e\": 0,\n",
    "            \"f\": 0,\n",
    "            \"g\": 0,\n",
    "            \"h\": 0,\n",
    "            \"i\": 0,\n",
    "            \"j\": 0,\n",
    "            \"k\": 0,\n",
    "            \"l\": 0,\n",
    "            \"m\": 0,\n",
    "            \"n\": 0,\n",
    "            \"o\": 0,\n",
    "            \"p\": 0,\n",
    "            \"q\": 0,\n",
    "            \"r\": 0,\n",
    "            \"s\": 0,\n",
    "            \"t\": 0,\n",
    "            \"u\": 0,\n",
    "            \"v\": 0,\n",
    "            \"w\": 0,\n",
    "            \"x\": 0,\n",
    "            \"y\": 0,\n",
    "            \"z\": 0\n",
    "        }\n",
    "     \n",
    "    for i in characters.strip():\n",
    "        if i.isalpha():\n",
    "            if i in all_freq:\n",
    "                all_freq[i] += 1\n",
    "            else:\n",
    "                all_freq[i] = 1\n",
    "     \n",
    "    # printing result\n",
    "    freq = list(all_freq.values())\n",
    "    print(freq)\n",
    "\n",
    "\n",
    "frequencies('hello world 6')"
   ]
  },
  {
   "cell_type": "markdown",
   "id": "863ee739",
   "metadata": {},
   "source": [
    "**Question 7**"
   ]
  },
  {
   "cell_type": "code",
   "execution_count": null,
   "id": "6b765016",
   "metadata": {},
   "outputs": [],
   "source": [
    "def bldcount(filepath):\n",
    "    # open file\n",
    "    f = open(filepath);\n",
    "    \n",
    "    result = {\n",
    "            'A': 0,\n",
    "            'B': 0,\n",
    "            'AB': 0,\n",
    "            'O': 0,\n",
    "            'OO': 0\n",
    "        }\n",
    "\n",
    "    for i in f.read().split(' '):\n",
    "        print(i)\n",
    "        if i in result:\n",
    "            result[i] += 1\n",
    "        else:\n",
    "            result[i] = 1\n",
    "    print('There are ' + str(result['A']) + ' patients of blood type A.' )\n",
    "    print('There is ' + str(result['B']) + ' patient of blood type B.')\n",
    "    print('There are ' + str(result['AB']) + ' patients of blood type AB.')\n",
    "    print('There are ' + str(result['O']) + ' patients of blood type O.')\n",
    "    print('There are ' + str(result['A']) + ' patients of blood type OO.')\n",
    "    print(result)\n",
    "\n",
    "bldcount('test.txt');"
   ]
  }
 ],
 "metadata": {
  "kernelspec": {
   "display_name": "Python 3 (ipykernel)",
   "language": "python",
   "name": "python3"
  },
  "language_info": {
   "codemirror_mode": {
    "name": "ipython",
    "version": 3
   },
   "file_extension": ".py",
   "mimetype": "text/x-python",
   "name": "python",
   "nbconvert_exporter": "python",
   "pygments_lexer": "ipython3",
   "version": "3.9.13"
  }
 },
 "nbformat": 4,
 "nbformat_minor": 5
}
